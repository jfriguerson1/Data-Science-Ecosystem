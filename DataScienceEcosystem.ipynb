{
 "cells": [
  {
   "cell_type": "markdown",
   "id": "689dea0a-ae63-4ea9-8c57-f1d7749c3be0",
   "metadata": {
    "tags": []
   },
   "source": [
    "# Data Science Tools and Ecosystem"
   ]
  },
  {
   "cell_type": "markdown",
   "id": "7918073d-414b-4c6e-97b2-419f037ebbbc",
   "metadata": {
    "tags": []
   },
   "source": [
    "An introduction of the Data Science Tools and Ecosystem is presented in this notebook."
   ]
  },
  {
   "cell_type": "markdown",
   "id": "8921a917-6773-42c3-a8b1-58e4345dbd97",
   "metadata": {},
   "source": [
    "# **Objectives**\n",
    "- Origin of Jupyter Notebook\n",
    "- Jupyter Lab\n",
    "- Jupyter Architecture\n",
    "- Additional Anaconda Jupyter Environment\n",
    "- Additional Cloud Based Jupyter Environment"
   ]
  },
  {
   "cell_type": "markdown",
   "id": "b35c33a2-6d47-48ce-8555-cf1a5caf8d8e",
   "metadata": {
    "tags": []
   },
   "source": [
    "# Some of the most common languages in Data Science are:\n",
    "1. Python\n",
    "2. R\n",
    "3. SQL\n",
    "4. Scala\n",
    "5. Java\n",
    "6. C++\n",
    "7. Julia"
   ]
  },
  {
   "cell_type": "code",
   "execution_count": null,
   "id": "953e39ff-fac4-430a-b0d4-33cb70a112e3",
   "metadata": {},
   "outputs": [],
   "source": []
  },
  {
   "cell_type": "markdown",
   "id": "f3675404-1ba6-4c77-b1af-c40308938a3d",
   "metadata": {},
   "source": [
    "## Some libraries often used in Data Science are:\n",
    "1. Scientific Computing Libraries in Python\n",
    "2. Visualization Libraries in Python\n",
    "3. Machine Learning and Deep Learning in Python\n",
    "4. Deep Learning Libraries in Python"
   ]
  },
  {
   "cell_type": "code",
   "execution_count": null,
   "id": "8fa85959-e21e-42e6-9ac6-a83c94892dab",
   "metadata": {},
   "outputs": [],
   "source": []
  },
  {
   "cell_type": "markdown",
   "id": "74e16a90-bd8f-461b-8c4e-69d772863810",
   "metadata": {},
   "source": [
    "## The open source tools used in the Development Environment in Data Science:"
   ]
  },
  {
   "cell_type": "markdown",
   "id": "7da9d35a-e356-456b-b221-8fedb34b83a4",
   "metadata": {
    "tags": []
   },
   "source": [
    "| Data Science Tools |\n",
    "| ------------------ |\n",
    "| Jupyter |\n",
    "| Apache Zepplin |\n",
    "| RStudio |"
   ]
  },
  {
   "cell_type": "code",
   "execution_count": null,
   "id": "3fb24f26-e5f7-43c7-a20c-b044bae451f1",
   "metadata": {},
   "outputs": [],
   "source": []
  },
  {
   "cell_type": "markdown",
   "id": "dae1da59-5525-40a6-ac12-6abddc15d104",
   "metadata": {
    "tags": []
   },
   "source": [
    "### Below are a few examples of evaluating arithmetic expressions in Python"
   ]
  },
  {
   "cell_type": "markdown",
   "id": "74bd6c15-9dd6-41bc-9446-393e4ed5501d",
   "metadata": {
    "tags": []
   },
   "source": [
    "_The expression below is a multiplication and addition of integers_"
   ]
  },
  {
   "cell_type": "code",
   "execution_count": null,
   "id": "53556f52-1cb4-470a-96da-203ee72cc597",
   "metadata": {
    "tags": []
   },
   "outputs": [],
   "source": [
    "(3*4)+5"
   ]
  },
  {
   "cell_type": "markdown",
   "id": "d3869f75-76c5-4ca1-884f-e7c5759b8541",
   "metadata": {
    "tags": []
   },
   "source": [
    "_This expressions converts 200 minutes into hours by dividing by 60_"
   ]
  },
  {
   "cell_type": "code",
   "execution_count": 7,
   "id": "8556b74c-7f32-473e-9871-e923029fb553",
   "metadata": {
    "tags": []
   },
   "outputs": [
    {
     "data": {
      "text/plain": [
       "3.3333333333333335"
      ]
     },
     "execution_count": 7,
     "metadata": {},
     "output_type": "execute_result"
    }
   ],
   "source": [
    "200/60"
   ]
  },
  {
   "cell_type": "code",
   "execution_count": null,
   "id": "0d7c5c85-92dc-4c00-a103-e2e8b85d0e3f",
   "metadata": {},
   "outputs": [],
   "source": []
  },
  {
   "cell_type": "markdown",
   "id": "cc7611cc-f511-4eae-8876-2534cc5ecb97",
   "metadata": {},
   "source": [
    "## Author\n",
    "Riguerson Jean Felix"
   ]
  },
  {
   "cell_type": "code",
   "execution_count": null,
   "id": "c0f1693d-11c7-4947-90db-b5ad1d7ef6fa",
   "metadata": {},
   "outputs": [],
   "source": []
  }
 ],
 "metadata": {
  "kernelspec": {
   "display_name": "anaconda-2022.05-py39",
   "language": "python",
   "name": "conda-env-anaconda-2022.05-py39-py"
  },
  "language_info": {
   "codemirror_mode": {
    "name": "ipython",
    "version": 3
   },
   "file_extension": ".py",
   "mimetype": "text/x-python",
   "name": "python",
   "nbconvert_exporter": "python",
   "pygments_lexer": "ipython3",
   "version": "3.9.12"
  }
 },
 "nbformat": 4,
 "nbformat_minor": 5
}
